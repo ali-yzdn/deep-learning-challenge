{
 "cells": [
  {
   "cell_type": "markdown",
   "metadata": {},
   "source": [
    "## Preprocessing"
   ]
  },
  {
   "cell_type": "code",
   "execution_count": 45,
   "metadata": {},
   "outputs": [
    {
     "data": {
      "text/html": [
       "<div>\n",
       "<style scoped>\n",
       "    .dataframe tbody tr th:only-of-type {\n",
       "        vertical-align: middle;\n",
       "    }\n",
       "\n",
       "    .dataframe tbody tr th {\n",
       "        vertical-align: top;\n",
       "    }\n",
       "\n",
       "    .dataframe thead th {\n",
       "        text-align: right;\n",
       "    }\n",
       "</style>\n",
       "<table border=\"1\" class=\"dataframe\">\n",
       "  <thead>\n",
       "    <tr style=\"text-align: right;\">\n",
       "      <th></th>\n",
       "      <th>EIN</th>\n",
       "      <th>NAME</th>\n",
       "      <th>APPLICATION_TYPE</th>\n",
       "      <th>AFFILIATION</th>\n",
       "      <th>CLASSIFICATION</th>\n",
       "      <th>USE_CASE</th>\n",
       "      <th>ORGANIZATION</th>\n",
       "      <th>STATUS</th>\n",
       "      <th>INCOME_AMT</th>\n",
       "      <th>SPECIAL_CONSIDERATIONS</th>\n",
       "      <th>ASK_AMT</th>\n",
       "      <th>IS_SUCCESSFUL</th>\n",
       "    </tr>\n",
       "  </thead>\n",
       "  <tbody>\n",
       "    <tr>\n",
       "      <th>0</th>\n",
       "      <td>10520599</td>\n",
       "      <td>BLUE KNIGHTS MOTORCYCLE CLUB</td>\n",
       "      <td>T10</td>\n",
       "      <td>Independent</td>\n",
       "      <td>C1000</td>\n",
       "      <td>ProductDev</td>\n",
       "      <td>Association</td>\n",
       "      <td>1</td>\n",
       "      <td>0</td>\n",
       "      <td>N</td>\n",
       "      <td>5000</td>\n",
       "      <td>1</td>\n",
       "    </tr>\n",
       "    <tr>\n",
       "      <th>1</th>\n",
       "      <td>10531628</td>\n",
       "      <td>AMERICAN CHESAPEAKE CLUB CHARITABLE TR</td>\n",
       "      <td>T3</td>\n",
       "      <td>Independent</td>\n",
       "      <td>C2000</td>\n",
       "      <td>Preservation</td>\n",
       "      <td>Co-operative</td>\n",
       "      <td>1</td>\n",
       "      <td>1-9999</td>\n",
       "      <td>N</td>\n",
       "      <td>108590</td>\n",
       "      <td>1</td>\n",
       "    </tr>\n",
       "    <tr>\n",
       "      <th>2</th>\n",
       "      <td>10547893</td>\n",
       "      <td>ST CLOUD PROFESSIONAL FIREFIGHTERS</td>\n",
       "      <td>T5</td>\n",
       "      <td>CompanySponsored</td>\n",
       "      <td>C3000</td>\n",
       "      <td>ProductDev</td>\n",
       "      <td>Association</td>\n",
       "      <td>1</td>\n",
       "      <td>0</td>\n",
       "      <td>N</td>\n",
       "      <td>5000</td>\n",
       "      <td>0</td>\n",
       "    </tr>\n",
       "    <tr>\n",
       "      <th>3</th>\n",
       "      <td>10553066</td>\n",
       "      <td>SOUTHSIDE ATHLETIC ASSOCIATION</td>\n",
       "      <td>T3</td>\n",
       "      <td>CompanySponsored</td>\n",
       "      <td>C2000</td>\n",
       "      <td>Preservation</td>\n",
       "      <td>Trust</td>\n",
       "      <td>1</td>\n",
       "      <td>10000-24999</td>\n",
       "      <td>N</td>\n",
       "      <td>6692</td>\n",
       "      <td>1</td>\n",
       "    </tr>\n",
       "    <tr>\n",
       "      <th>4</th>\n",
       "      <td>10556103</td>\n",
       "      <td>GENETIC RESEARCH INSTITUTE OF THE DESERT</td>\n",
       "      <td>T3</td>\n",
       "      <td>Independent</td>\n",
       "      <td>C1000</td>\n",
       "      <td>Heathcare</td>\n",
       "      <td>Trust</td>\n",
       "      <td>1</td>\n",
       "      <td>100000-499999</td>\n",
       "      <td>N</td>\n",
       "      <td>142590</td>\n",
       "      <td>1</td>\n",
       "    </tr>\n",
       "  </tbody>\n",
       "</table>\n",
       "</div>"
      ],
      "text/plain": [
       "        EIN                                      NAME APPLICATION_TYPE  \\\n",
       "0  10520599              BLUE KNIGHTS MOTORCYCLE CLUB              T10   \n",
       "1  10531628    AMERICAN CHESAPEAKE CLUB CHARITABLE TR               T3   \n",
       "2  10547893        ST CLOUD PROFESSIONAL FIREFIGHTERS               T5   \n",
       "3  10553066            SOUTHSIDE ATHLETIC ASSOCIATION               T3   \n",
       "4  10556103  GENETIC RESEARCH INSTITUTE OF THE DESERT               T3   \n",
       "\n",
       "        AFFILIATION CLASSIFICATION      USE_CASE  ORGANIZATION  STATUS  \\\n",
       "0       Independent          C1000    ProductDev   Association       1   \n",
       "1       Independent          C2000  Preservation  Co-operative       1   \n",
       "2  CompanySponsored          C3000    ProductDev   Association       1   \n",
       "3  CompanySponsored          C2000  Preservation         Trust       1   \n",
       "4       Independent          C1000     Heathcare         Trust       1   \n",
       "\n",
       "      INCOME_AMT SPECIAL_CONSIDERATIONS  ASK_AMT  IS_SUCCESSFUL  \n",
       "0              0                      N     5000              1  \n",
       "1         1-9999                      N   108590              1  \n",
       "2              0                      N     5000              0  \n",
       "3    10000-24999                      N     6692              1  \n",
       "4  100000-499999                      N   142590              1  "
      ]
     },
     "execution_count": 45,
     "metadata": {},
     "output_type": "execute_result"
    }
   ],
   "source": [
    "# Import our dependencies\n",
    "from sklearn.model_selection import train_test_split\n",
    "from sklearn.preprocessing import StandardScaler\n",
    "import pandas as pd\n",
    "import tensorflow as tf\n",
    "from tensorflow.keras.models import Sequential\n",
    "from tensorflow.keras.layers import Dense\n",
    "\n",
    "#  Import and read the charity_data.csv.\n",
    "import pandas as pd\n",
    "application_df = pd.read_csv(\"https://static.bc-edx.com/data/dla-1-2/m21/lms/starter/charity_data.csv\")\n",
    "application_df.head()"
   ]
  },
  {
   "cell_type": "code",
   "execution_count": 46,
   "metadata": {},
   "outputs": [],
   "source": [
    "# Drop the non-beneficial ID columns, 'EIN' and 'NAME'.\n",
    "application_df = application_df.drop(columns=[\"EIN\", \"NAME\"])"
   ]
  },
  {
   "cell_type": "code",
   "execution_count": 47,
   "metadata": {},
   "outputs": [
    {
     "data": {
      "text/plain": [
       "APPLICATION_TYPE            17\n",
       "AFFILIATION                  6\n",
       "CLASSIFICATION              71\n",
       "USE_CASE                     5\n",
       "ORGANIZATION                 4\n",
       "STATUS                       2\n",
       "INCOME_AMT                   9\n",
       "SPECIAL_CONSIDERATIONS       2\n",
       "ASK_AMT                   8747\n",
       "IS_SUCCESSFUL                2\n",
       "dtype: int64"
      ]
     },
     "execution_count": 47,
     "metadata": {},
     "output_type": "execute_result"
    }
   ],
   "source": [
    "# Determine the number of unique values in each column.\n",
    "unique_counts = application_df.nunique()\n",
    "unique_counts"
   ]
  },
  {
   "cell_type": "code",
   "execution_count": 48,
   "metadata": {},
   "outputs": [
    {
     "name": "stdout",
     "output_type": "stream",
     "text": [
      "APPLICATION_TYPE\n",
      "T3     27037\n",
      "T4      1542\n",
      "T6      1216\n",
      "T5      1173\n",
      "T19     1065\n",
      "T8       737\n",
      "T7       725\n",
      "T10      528\n",
      "T9       156\n",
      "T13       66\n",
      "T12       27\n",
      "T2        16\n",
      "T25        3\n",
      "T14        3\n",
      "T29        2\n",
      "T15        2\n",
      "T17        1\n",
      "Name: count, dtype: int64\n",
      "CLASSIFICATION\n",
      "C1000    17326\n",
      "C2000     6074\n",
      "C1200     4837\n",
      "C3000     1918\n",
      "C2100     1883\n",
      "         ...  \n",
      "C4120        1\n",
      "C8210        1\n",
      "C2561        1\n",
      "C4500        1\n",
      "C2150        1\n",
      "Name: count, Length: 71, dtype: int64\n",
      "ASK_AMT\n",
      "5000        25398\n",
      "10478           3\n",
      "15583           3\n",
      "63981           3\n",
      "6725            3\n",
      "            ...  \n",
      "5371754         1\n",
      "30060           1\n",
      "43091152        1\n",
      "18683           1\n",
      "36500179        1\n",
      "Name: count, Length: 8747, dtype: int64\n"
     ]
    }
   ],
   "source": [
    "for column in application_df.columns:\n",
    "    if unique_counts[column] > 10:\n",
    "        print(application_df[column].value_counts())"
   ]
  },
  {
   "cell_type": "code",
   "execution_count": 49,
   "metadata": {},
   "outputs": [
    {
     "name": "stdout",
     "output_type": "stream",
     "text": [
      "APPLICATION_TYPE\n",
      "T3     27037\n",
      "T4      1542\n",
      "T6      1216\n",
      "T5      1173\n",
      "T19     1065\n",
      "T8       737\n",
      "T7       725\n",
      "T10      528\n",
      "T9       156\n",
      "T13       66\n",
      "T12       27\n",
      "T2        16\n",
      "T25        3\n",
      "T14        3\n",
      "T29        2\n",
      "T15        2\n",
      "T17        1\n",
      "Name: count, dtype: int64\n"
     ]
    }
   ],
   "source": [
    "# Look at APPLICATION_TYPE value counts to identify and replace with \"Other\"\n",
    "application_type_counts = application_df['APPLICATION_TYPE'].value_counts()\n",
    "print(application_type_counts)"
   ]
  },
  {
   "cell_type": "code",
   "execution_count": 50,
   "metadata": {},
   "outputs": [
    {
     "data": {
      "text/plain": [
       "APPLICATION_TYPE\n",
       "T3       27037\n",
       "T4        1542\n",
       "T6        1216\n",
       "T5        1173\n",
       "T19       1065\n",
       "T8         737\n",
       "T7         725\n",
       "T10        528\n",
       "Other      276\n",
       "Name: count, dtype: int64"
      ]
     },
     "execution_count": 50,
     "metadata": {},
     "output_type": "execute_result"
    }
   ],
   "source": [
    "# Choose a cutoff value and create a list of application types to be replaced\n",
    "# use the variable name `application_types_to_replace`\n",
    "cutoff = 500\n",
    "application_types_to_replace = application_type_counts[application_type_counts < cutoff].index\n",
    "# Replace in dataframe\n",
    "for app in application_types_to_replace:\n",
    "    application_df['APPLICATION_TYPE'] = application_df['APPLICATION_TYPE'].replace(app,\"Other\")\n",
    "\n",
    "# Check to make sure replacement was successful\n",
    "application_df['APPLICATION_TYPE'].value_counts()"
   ]
  },
  {
   "cell_type": "code",
   "execution_count": 51,
   "metadata": {},
   "outputs": [
    {
     "name": "stdout",
     "output_type": "stream",
     "text": [
      "CLASSIFICATION\n",
      "C1000    17326\n",
      "C2000     6074\n",
      "C1200     4837\n",
      "C3000     1918\n",
      "C2100     1883\n",
      "         ...  \n",
      "C4120        1\n",
      "C8210        1\n",
      "C2561        1\n",
      "C4500        1\n",
      "C2150        1\n",
      "Name: count, Length: 71, dtype: int64\n"
     ]
    }
   ],
   "source": [
    "# Look at CLASSIFICATION value counts to identify and replace with \"Other\"\n",
    "classification_counts = application_df['CLASSIFICATION'].value_counts()\n",
    "print(classification_counts)"
   ]
  },
  {
   "cell_type": "code",
   "execution_count": 52,
   "metadata": {},
   "outputs": [
    {
     "name": "stdout",
     "output_type": "stream",
     "text": [
      "CLASSIFICATION\n",
      "C1000    17326\n",
      "C2000     6074\n",
      "C1200     4837\n",
      "C3000     1918\n",
      "C2100     1883\n",
      "C7000      777\n",
      "C1700      287\n",
      "C4000      194\n",
      "C5000      116\n",
      "C1270      114\n",
      "C2700      104\n",
      "C2800       95\n",
      "C7100       75\n",
      "C1300       58\n",
      "C1280       50\n",
      "C1230       36\n",
      "C1400       34\n",
      "C7200       32\n",
      "C2300       32\n",
      "C1240       30\n",
      "C8000       20\n",
      "C7120       18\n",
      "C1500       16\n",
      "C1800       15\n",
      "C6000       15\n",
      "C1250       14\n",
      "C8200       11\n",
      "C1238       10\n",
      "C1278       10\n",
      "C1235        9\n",
      "C1237        9\n",
      "C7210        7\n",
      "C2400        6\n",
      "C1720        6\n",
      "C4100        6\n",
      "C1257        5\n",
      "C1600        5\n",
      "C1260        3\n",
      "C2710        3\n",
      "C0           3\n",
      "C3200        2\n",
      "C1234        2\n",
      "C1246        2\n",
      "C1267        2\n",
      "C1256        2\n",
      "Name: count, dtype: int64\n"
     ]
    }
   ],
   "source": [
    "# You may find it helpful to look at CLASSIFICATION value counts >1\n",
    "classification_counts_gt1 = classification_counts[classification_counts > 1]\n",
    "print(classification_counts_gt1)"
   ]
  },
  {
   "cell_type": "code",
   "execution_count": 53,
   "metadata": {},
   "outputs": [
    {
     "data": {
      "text/plain": [
       "CLASSIFICATION\n",
       "C1000    17326\n",
       "C2000     6074\n",
       "C1200     4837\n",
       "Other     2261\n",
       "C3000     1918\n",
       "C2100     1883\n",
       "Name: count, dtype: int64"
      ]
     },
     "execution_count": 53,
     "metadata": {},
     "output_type": "execute_result"
    }
   ],
   "source": [
    "# Choose a cutoff value and create a list of classifications to be replaced\n",
    "# use the variable name `classifications_to_replace`\n",
    "cutoff = 1000 \n",
    "classifications_to_replace = classification_counts[classification_counts < cutoff].index\n",
    "# Replace in dataframe\n",
    "for cls in classifications_to_replace:\n",
    "    application_df['CLASSIFICATION'] = application_df['CLASSIFICATION'].replace(cls,\"Other\")\n",
    "\n",
    "# Check to make sure replacement was successful\n",
    "application_df['CLASSIFICATION'].value_counts()"
   ]
  },
  {
   "cell_type": "code",
   "execution_count": 54,
   "metadata": {},
   "outputs": [],
   "source": [
    "# Convert categorical data to numeric with `pd.get_dummies`\n",
    "charity_encoded = pd.get_dummies(application_df)"
   ]
  },
  {
   "cell_type": "code",
   "execution_count": 55,
   "metadata": {},
   "outputs": [],
   "source": [
    "# Split our preprocessed data into our features and target arrays\n",
    "X = charity_encoded.drop(columns=[\"IS_SUCCESSFUL\"])\n",
    "y = charity_encoded[\"IS_SUCCESSFUL\"]\n",
    "\n",
    "# Split the preprocessed data into a training and testing dataset\n",
    "X_train, X_test, y_train, y_test = train_test_split(X, y, random_state=1, stratify=y)"
   ]
  },
  {
   "cell_type": "code",
   "execution_count": 56,
   "metadata": {},
   "outputs": [],
   "source": [
    "# Create a StandardScaler instances\n",
    "scaler = StandardScaler()\n",
    "\n",
    "# Fit the StandardScaler\n",
    "X_scaler = scaler.fit(X_train)\n",
    "\n",
    "# Scale the data\n",
    "X_train_scaled = X_scaler.transform(X_train)\n",
    "X_test_scaled = X_scaler.transform(X_test)"
   ]
  },
  {
   "cell_type": "markdown",
   "metadata": {},
   "source": [
    "## Compile, Train and Evaluate the Model"
   ]
  },
  {
   "cell_type": "code",
   "execution_count": 31,
   "metadata": {},
   "outputs": [
    {
     "name": "stdout",
     "output_type": "stream",
     "text": [
      "Model: \"sequential_2\"\n",
      "_________________________________________________________________\n",
      " Layer (type)                Output Shape              Param #   \n",
      "=================================================================\n",
      " dense (Dense)               (None, 10)                440       \n",
      "                                                                 \n",
      " dense_1 (Dense)             (None, 10)                110       \n",
      "                                                                 \n",
      " dense_2 (Dense)             (None, 1)                 11        \n",
      "                                                                 \n",
      "=================================================================\n",
      "Total params: 561 (2.19 KB)\n",
      "Trainable params: 561 (2.19 KB)\n",
      "Non-trainable params: 0 (0.00 Byte)\n",
      "_________________________________________________________________\n"
     ]
    }
   ],
   "source": [
    "# Define the model - deep neural net, i.e., the number of input features and hidden nodes for each layer.\n",
    "input_features = len(X_train_scaled[0])\n",
    "\n",
    "nn = tf.keras.models.Sequential()\n",
    "\n",
    "# First hidden layer\n",
    "nn.add(Dense(units=10, activation='relu', input_dim=input_features))\n",
    "\n",
    "# Second hidden layer\n",
    "nn.add(Dense(units=10, activation='relu'))\n",
    "\n",
    "# Output layer\n",
    "nn.add(Dense(units=1, activation='sigmoid'))\n",
    "\n",
    "# Check the structure of the model\n",
    "nn.summary()"
   ]
  },
  {
   "cell_type": "code",
   "execution_count": 32,
   "metadata": {},
   "outputs": [],
   "source": [
    "# Compile the model\n",
    "nn.compile(optimizer='adam',\n",
    "              loss='binary_crossentropy',\n",
    "              metrics=['accuracy'])"
   ]
  },
  {
   "cell_type": "code",
   "execution_count": 40,
   "metadata": {},
   "outputs": [
    {
     "name": "stdout",
     "output_type": "stream",
     "text": [
      "WARNING:tensorflow:`period` argument is deprecated. Please use `save_freq` to specify the frequency in number of batches seen.\n"
     ]
    }
   ],
   "source": [
    "# Create a callback that saves the model's weights every five epochs\n",
    "checkpoint_callback = tf.keras.callbacks.ModelCheckpoint(\n",
    "    filepath='model_weights.{epoch:02d}.h5', save_weights_only=True, save_freq='epoch', period=5)"
   ]
  },
  {
   "cell_type": "code",
   "execution_count": 42,
   "metadata": {},
   "outputs": [
    {
     "name": "stdout",
     "output_type": "stream",
     "text": [
      "Epoch 1/100\n",
      "804/804 [==============================] - 1s 890us/step - loss: 0.6066 - accuracy: 0.6903 - val_loss: 0.5722 - val_accuracy: 0.7228\n",
      "Epoch 2/100\n",
      "804/804 [==============================] - 1s 715us/step - loss: 0.5622 - accuracy: 0.7284 - val_loss: 0.5636 - val_accuracy: 0.7258\n",
      "Epoch 3/100\n",
      "804/804 [==============================] - 1s 722us/step - loss: 0.5565 - accuracy: 0.7290 - val_loss: 0.5607 - val_accuracy: 0.7258\n",
      "Epoch 4/100\n",
      "804/804 [==============================] - 1s 746us/step - loss: 0.5539 - accuracy: 0.7300 - val_loss: 0.5581 - val_accuracy: 0.7258\n",
      "Epoch 5/100\n",
      "804/804 [==============================] - 1s 776us/step - loss: 0.5522 - accuracy: 0.7299 - val_loss: 0.5597 - val_accuracy: 0.7238\n",
      "Epoch 6/100\n",
      "804/804 [==============================] - 1s 716us/step - loss: 0.5513 - accuracy: 0.7309 - val_loss: 0.5578 - val_accuracy: 0.7243\n",
      "Epoch 7/100\n",
      "804/804 [==============================] - 1s 720us/step - loss: 0.5502 - accuracy: 0.7313 - val_loss: 0.5560 - val_accuracy: 0.7268\n",
      "Epoch 8/100\n",
      "804/804 [==============================] - 1s 718us/step - loss: 0.5496 - accuracy: 0.7307 - val_loss: 0.5568 - val_accuracy: 0.7255\n",
      "Epoch 9/100\n",
      "804/804 [==============================] - 1s 749us/step - loss: 0.5491 - accuracy: 0.7329 - val_loss: 0.5575 - val_accuracy: 0.7254\n",
      "Epoch 10/100\n",
      "804/804 [==============================] - 1s 759us/step - loss: 0.5486 - accuracy: 0.7309 - val_loss: 0.5552 - val_accuracy: 0.7255\n",
      "Epoch 11/100\n",
      "804/804 [==============================] - 1s 788us/step - loss: 0.5481 - accuracy: 0.7322 - val_loss: 0.5559 - val_accuracy: 0.7254\n",
      "Epoch 12/100\n",
      "804/804 [==============================] - 1s 707us/step - loss: 0.5478 - accuracy: 0.7327 - val_loss: 0.5563 - val_accuracy: 0.7297\n",
      "Epoch 13/100\n",
      "804/804 [==============================] - 1s 703us/step - loss: 0.5475 - accuracy: 0.7334 - val_loss: 0.5554 - val_accuracy: 0.7284\n",
      "Epoch 14/100\n",
      "804/804 [==============================] - 1s 775us/step - loss: 0.5471 - accuracy: 0.7329 - val_loss: 0.5548 - val_accuracy: 0.7255\n",
      "Epoch 15/100\n",
      "804/804 [==============================] - 1s 708us/step - loss: 0.5471 - accuracy: 0.7335 - val_loss: 0.5557 - val_accuracy: 0.7292\n",
      "Epoch 16/100\n",
      "804/804 [==============================] - 1s 697us/step - loss: 0.5469 - accuracy: 0.7329 - val_loss: 0.5548 - val_accuracy: 0.7265\n",
      "Epoch 17/100\n",
      "804/804 [==============================] - 1s 1ms/step - loss: 0.5465 - accuracy: 0.7332 - val_loss: 0.5552 - val_accuracy: 0.7251\n",
      "Epoch 18/100\n",
      "804/804 [==============================] - 1s 966us/step - loss: 0.5464 - accuracy: 0.7336 - val_loss: 0.5555 - val_accuracy: 0.7255\n",
      "Epoch 19/100\n",
      "804/804 [==============================] - 1s 740us/step - loss: 0.5459 - accuracy: 0.7326 - val_loss: 0.5550 - val_accuracy: 0.7245\n",
      "Epoch 20/100\n",
      "804/804 [==============================] - 1s 799us/step - loss: 0.5460 - accuracy: 0.7336 - val_loss: 0.5538 - val_accuracy: 0.7248\n",
      "Epoch 21/100\n",
      "804/804 [==============================] - 1s 761us/step - loss: 0.5459 - accuracy: 0.7333 - val_loss: 0.5546 - val_accuracy: 0.7275\n",
      "Epoch 22/100\n",
      "804/804 [==============================] - 1s 703us/step - loss: 0.5453 - accuracy: 0.7338 - val_loss: 0.5548 - val_accuracy: 0.7292\n",
      "Epoch 23/100\n",
      "804/804 [==============================] - 1s 765us/step - loss: 0.5455 - accuracy: 0.7342 - val_loss: 0.5539 - val_accuracy: 0.7285\n",
      "Epoch 24/100\n",
      "804/804 [==============================] - 1s 720us/step - loss: 0.5452 - accuracy: 0.7335 - val_loss: 0.5556 - val_accuracy: 0.7268\n",
      "Epoch 25/100\n",
      "804/804 [==============================] - 1s 718us/step - loss: 0.5453 - accuracy: 0.7334 - val_loss: 0.5532 - val_accuracy: 0.7268\n",
      "Epoch 26/100\n",
      "804/804 [==============================] - 1s 744us/step - loss: 0.5449 - accuracy: 0.7339 - val_loss: 0.5534 - val_accuracy: 0.7307\n",
      "Epoch 27/100\n",
      "804/804 [==============================] - 1s 730us/step - loss: 0.5452 - accuracy: 0.7346 - val_loss: 0.5535 - val_accuracy: 0.7312\n",
      "Epoch 28/100\n",
      "804/804 [==============================] - 1s 751us/step - loss: 0.5451 - accuracy: 0.7339 - val_loss: 0.5536 - val_accuracy: 0.7262\n",
      "Epoch 29/100\n",
      "804/804 [==============================] - 1s 742us/step - loss: 0.5446 - accuracy: 0.7341 - val_loss: 0.5542 - val_accuracy: 0.7271\n",
      "Epoch 30/100\n",
      "804/804 [==============================] - 1s 762us/step - loss: 0.5449 - accuracy: 0.7338 - val_loss: 0.5527 - val_accuracy: 0.7293\n",
      "Epoch 31/100\n",
      "804/804 [==============================] - 1s 768us/step - loss: 0.5445 - accuracy: 0.7341 - val_loss: 0.5546 - val_accuracy: 0.7298\n",
      "Epoch 32/100\n",
      "804/804 [==============================] - 1s 724us/step - loss: 0.5442 - accuracy: 0.7333 - val_loss: 0.5530 - val_accuracy: 0.7294\n",
      "Epoch 33/100\n",
      "804/804 [==============================] - 1s 740us/step - loss: 0.5442 - accuracy: 0.7348 - val_loss: 0.5549 - val_accuracy: 0.7263\n",
      "Epoch 34/100\n",
      "804/804 [==============================] - 1s 727us/step - loss: 0.5440 - accuracy: 0.7343 - val_loss: 0.5554 - val_accuracy: 0.7303\n",
      "Epoch 35/100\n",
      "804/804 [==============================] - 1s 721us/step - loss: 0.5441 - accuracy: 0.7347 - val_loss: 0.5546 - val_accuracy: 0.7275\n",
      "Epoch 36/100\n",
      "804/804 [==============================] - 1s 778us/step - loss: 0.5441 - accuracy: 0.7346 - val_loss: 0.5529 - val_accuracy: 0.7289\n",
      "Epoch 37/100\n",
      "804/804 [==============================] - 1s 720us/step - loss: 0.5436 - accuracy: 0.7345 - val_loss: 0.5542 - val_accuracy: 0.7301\n",
      "Epoch 38/100\n",
      "804/804 [==============================] - 1s 725us/step - loss: 0.5440 - accuracy: 0.7336 - val_loss: 0.5539 - val_accuracy: 0.7284\n",
      "Epoch 39/100\n",
      "804/804 [==============================] - 1s 731us/step - loss: 0.5436 - accuracy: 0.7337 - val_loss: 0.5534 - val_accuracy: 0.7271\n",
      "Epoch 40/100\n",
      "804/804 [==============================] - 1s 800us/step - loss: 0.5438 - accuracy: 0.7342 - val_loss: 0.5533 - val_accuracy: 0.7276\n",
      "Epoch 41/100\n",
      "804/804 [==============================] - 1s 730us/step - loss: 0.5433 - accuracy: 0.7348 - val_loss: 0.5529 - val_accuracy: 0.7284\n",
      "Epoch 42/100\n",
      "804/804 [==============================] - 1s 719us/step - loss: 0.5434 - accuracy: 0.7355 - val_loss: 0.5550 - val_accuracy: 0.7252\n",
      "Epoch 43/100\n",
      "804/804 [==============================] - 1s 732us/step - loss: 0.5436 - accuracy: 0.7346 - val_loss: 0.5534 - val_accuracy: 0.7284\n",
      "Epoch 44/100\n",
      "804/804 [==============================] - 1s 740us/step - loss: 0.5433 - accuracy: 0.7342 - val_loss: 0.5536 - val_accuracy: 0.7300\n",
      "Epoch 45/100\n",
      "804/804 [==============================] - 1s 730us/step - loss: 0.5430 - accuracy: 0.7351 - val_loss: 0.5546 - val_accuracy: 0.7294\n",
      "Epoch 46/100\n",
      "804/804 [==============================] - 1s 722us/step - loss: 0.5429 - accuracy: 0.7350 - val_loss: 0.5540 - val_accuracy: 0.7285\n",
      "Epoch 47/100\n",
      "804/804 [==============================] - 1s 733us/step - loss: 0.5433 - accuracy: 0.7347 - val_loss: 0.5538 - val_accuracy: 0.7271\n",
      "Epoch 48/100\n",
      "804/804 [==============================] - 1s 800us/step - loss: 0.5427 - accuracy: 0.7346 - val_loss: 0.5542 - val_accuracy: 0.7299\n",
      "Epoch 49/100\n",
      "804/804 [==============================] - 1s 752us/step - loss: 0.5432 - accuracy: 0.7351 - val_loss: 0.5526 - val_accuracy: 0.7293\n",
      "Epoch 50/100\n",
      "804/804 [==============================] - 1s 757us/step - loss: 0.5431 - accuracy: 0.7349 - val_loss: 0.5542 - val_accuracy: 0.7271\n",
      "Epoch 51/100\n",
      "804/804 [==============================] - 1s 778us/step - loss: 0.5429 - accuracy: 0.7348 - val_loss: 0.5538 - val_accuracy: 0.7289\n",
      "Epoch 52/100\n",
      "804/804 [==============================] - 1s 718us/step - loss: 0.5428 - accuracy: 0.7350 - val_loss: 0.5545 - val_accuracy: 0.7275\n",
      "Epoch 53/100\n",
      "804/804 [==============================] - 1s 734us/step - loss: 0.5427 - accuracy: 0.7340 - val_loss: 0.5546 - val_accuracy: 0.7291\n",
      "Epoch 54/100\n",
      "804/804 [==============================] - 1s 724us/step - loss: 0.5426 - accuracy: 0.7356 - val_loss: 0.5534 - val_accuracy: 0.7292\n",
      "Epoch 55/100\n",
      "804/804 [==============================] - 1s 762us/step - loss: 0.5429 - accuracy: 0.7362 - val_loss: 0.5541 - val_accuracy: 0.7303\n",
      "Epoch 56/100\n",
      "804/804 [==============================] - 1s 734us/step - loss: 0.5425 - accuracy: 0.7350 - val_loss: 0.5555 - val_accuracy: 0.7277\n",
      "Epoch 57/100\n",
      "804/804 [==============================] - 1s 732us/step - loss: 0.5426 - accuracy: 0.7352 - val_loss: 0.5533 - val_accuracy: 0.7293\n",
      "Epoch 58/100\n",
      "804/804 [==============================] - 1s 726us/step - loss: 0.5426 - accuracy: 0.7355 - val_loss: 0.5551 - val_accuracy: 0.7297\n",
      "Epoch 59/100\n",
      "804/804 [==============================] - 1s 772us/step - loss: 0.5426 - accuracy: 0.7362 - val_loss: 0.5546 - val_accuracy: 0.7280\n",
      "Epoch 60/100\n",
      "804/804 [==============================] - 1s 736us/step - loss: 0.5425 - accuracy: 0.7346 - val_loss: 0.5551 - val_accuracy: 0.7297\n",
      "Epoch 61/100\n",
      "804/804 [==============================] - 1s 731us/step - loss: 0.5421 - accuracy: 0.7349 - val_loss: 0.5540 - val_accuracy: 0.7256\n",
      "Epoch 62/100\n",
      "804/804 [==============================] - 1s 719us/step - loss: 0.5425 - accuracy: 0.7348 - val_loss: 0.5532 - val_accuracy: 0.7303\n",
      "Epoch 63/100\n",
      "804/804 [==============================] - 1s 722us/step - loss: 0.5422 - accuracy: 0.7349 - val_loss: 0.5529 - val_accuracy: 0.7305\n",
      "Epoch 64/100\n",
      "804/804 [==============================] - 1s 767us/step - loss: 0.5425 - accuracy: 0.7347 - val_loss: 0.5543 - val_accuracy: 0.7290\n",
      "Epoch 65/100\n",
      "804/804 [==============================] - 1s 729us/step - loss: 0.5421 - accuracy: 0.7352 - val_loss: 0.5550 - val_accuracy: 0.7305\n",
      "Epoch 66/100\n",
      "804/804 [==============================] - 1s 729us/step - loss: 0.5420 - accuracy: 0.7354 - val_loss: 0.5540 - val_accuracy: 0.7265\n",
      "Epoch 67/100\n",
      "804/804 [==============================] - 1s 728us/step - loss: 0.5423 - accuracy: 0.7337 - val_loss: 0.5540 - val_accuracy: 0.7273\n",
      "Epoch 68/100\n",
      "804/804 [==============================] - 1s 779us/step - loss: 0.5416 - accuracy: 0.7349 - val_loss: 0.5551 - val_accuracy: 0.7284\n",
      "Epoch 69/100\n",
      "804/804 [==============================] - 1s 719us/step - loss: 0.5422 - accuracy: 0.7355 - val_loss: 0.5547 - val_accuracy: 0.7306\n",
      "Epoch 70/100\n",
      "804/804 [==============================] - 1s 741us/step - loss: 0.5419 - accuracy: 0.7359 - val_loss: 0.5556 - val_accuracy: 0.7265\n",
      "Epoch 71/100\n",
      "804/804 [==============================] - 1s 716us/step - loss: 0.5419 - accuracy: 0.7351 - val_loss: 0.5550 - val_accuracy: 0.7282\n",
      "Epoch 72/100\n",
      "804/804 [==============================] - 1s 710us/step - loss: 0.5420 - accuracy: 0.7351 - val_loss: 0.5547 - val_accuracy: 0.7280\n",
      "Epoch 73/100\n",
      "804/804 [==============================] - 1s 756us/step - loss: 0.5420 - accuracy: 0.7358 - val_loss: 0.5546 - val_accuracy: 0.7272\n",
      "Epoch 74/100\n",
      "804/804 [==============================] - 1s 716us/step - loss: 0.5419 - accuracy: 0.7355 - val_loss: 0.5567 - val_accuracy: 0.7303\n",
      "Epoch 75/100\n",
      "804/804 [==============================] - 1s 728us/step - loss: 0.5418 - accuracy: 0.7365 - val_loss: 0.5527 - val_accuracy: 0.7300\n",
      "Epoch 76/100\n",
      "804/804 [==============================] - 1s 723us/step - loss: 0.5421 - accuracy: 0.7348 - val_loss: 0.5550 - val_accuracy: 0.7298\n",
      "Epoch 77/100\n",
      "804/804 [==============================] - 1s 763us/step - loss: 0.5415 - accuracy: 0.7347 - val_loss: 0.5525 - val_accuracy: 0.7315\n",
      "Epoch 78/100\n",
      "804/804 [==============================] - 1s 731us/step - loss: 0.5418 - accuracy: 0.7347 - val_loss: 0.5552 - val_accuracy: 0.7285\n",
      "Epoch 79/100\n",
      "804/804 [==============================] - 1s 720us/step - loss: 0.5419 - accuracy: 0.7346 - val_loss: 0.5549 - val_accuracy: 0.7290\n",
      "Epoch 80/100\n",
      "804/804 [==============================] - 1s 729us/step - loss: 0.5418 - accuracy: 0.7351 - val_loss: 0.5559 - val_accuracy: 0.7306\n",
      "Epoch 81/100\n",
      "804/804 [==============================] - 1s 767us/step - loss: 0.5418 - accuracy: 0.7349 - val_loss: 0.5544 - val_accuracy: 0.7304\n",
      "Epoch 82/100\n",
      "804/804 [==============================] - 1s 730us/step - loss: 0.5414 - accuracy: 0.7359 - val_loss: 0.5544 - val_accuracy: 0.7310\n",
      "Epoch 83/100\n",
      "804/804 [==============================] - 1s 728us/step - loss: 0.5415 - accuracy: 0.7358 - val_loss: 0.5546 - val_accuracy: 0.7300\n",
      "Epoch 84/100\n",
      "804/804 [==============================] - 1s 717us/step - loss: 0.5411 - accuracy: 0.7359 - val_loss: 0.5561 - val_accuracy: 0.7255\n",
      "Epoch 85/100\n",
      "804/804 [==============================] - 1s 755us/step - loss: 0.5415 - accuracy: 0.7356 - val_loss: 0.5552 - val_accuracy: 0.7319\n",
      "Epoch 86/100\n",
      "804/804 [==============================] - 1s 738us/step - loss: 0.5410 - accuracy: 0.7361 - val_loss: 0.5565 - val_accuracy: 0.7282\n",
      "Epoch 87/100\n",
      "804/804 [==============================] - 1s 713us/step - loss: 0.5416 - accuracy: 0.7358 - val_loss: 0.5556 - val_accuracy: 0.7252\n",
      "Epoch 88/100\n",
      "804/804 [==============================] - 1s 735us/step - loss: 0.5414 - accuracy: 0.7351 - val_loss: 0.5538 - val_accuracy: 0.7299\n",
      "Epoch 89/100\n",
      "804/804 [==============================] - 1s 726us/step - loss: 0.5412 - accuracy: 0.7365 - val_loss: 0.5562 - val_accuracy: 0.7268\n",
      "Epoch 90/100\n",
      "804/804 [==============================] - 1s 755us/step - loss: 0.5412 - accuracy: 0.7356 - val_loss: 0.5561 - val_accuracy: 0.7283\n",
      "Epoch 91/100\n",
      "804/804 [==============================] - 1s 721us/step - loss: 0.5412 - accuracy: 0.7349 - val_loss: 0.5554 - val_accuracy: 0.7286\n",
      "Epoch 92/100\n",
      "804/804 [==============================] - 1s 730us/step - loss: 0.5412 - accuracy: 0.7354 - val_loss: 0.5564 - val_accuracy: 0.7290\n",
      "Epoch 93/100\n",
      "804/804 [==============================] - 1s 724us/step - loss: 0.5411 - accuracy: 0.7355 - val_loss: 0.5565 - val_accuracy: 0.7258\n",
      "Epoch 94/100\n",
      "804/804 [==============================] - 1s 771us/step - loss: 0.5413 - accuracy: 0.7351 - val_loss: 0.5564 - val_accuracy: 0.7279\n",
      "Epoch 95/100\n",
      "804/804 [==============================] - 1s 734us/step - loss: 0.5411 - accuracy: 0.7356 - val_loss: 0.5549 - val_accuracy: 0.7287\n",
      "Epoch 96/100\n",
      "804/804 [==============================] - 1s 716us/step - loss: 0.5412 - accuracy: 0.7352 - val_loss: 0.5546 - val_accuracy: 0.7278\n",
      "Epoch 97/100\n",
      "804/804 [==============================] - 1s 718us/step - loss: 0.5411 - accuracy: 0.7349 - val_loss: 0.5558 - val_accuracy: 0.7278\n",
      "Epoch 98/100\n",
      "804/804 [==============================] - 1s 742us/step - loss: 0.5409 - accuracy: 0.7369 - val_loss: 0.5546 - val_accuracy: 0.7290\n",
      "Epoch 99/100\n",
      "804/804 [==============================] - 1s 725us/step - loss: 0.5410 - accuracy: 0.7361 - val_loss: 0.5553 - val_accuracy: 0.7298\n",
      "Epoch 100/100\n",
      "804/804 [==============================] - 1s 728us/step - loss: 0.5411 - accuracy: 0.7363 - val_loss: 0.5570 - val_accuracy: 0.7290\n"
     ]
    },
    {
     "data": {
      "text/plain": [
       "<keras.src.callbacks.History at 0x309c80af0>"
      ]
     },
     "execution_count": 42,
     "metadata": {},
     "output_type": "execute_result"
    }
   ],
   "source": [
    "# Train the model\n",
    "nn.fit(X_train_scaled, y_train, epochs=100, callbacks=[checkpoint_callback], validation_data=(X_test_scaled, y_test))"
   ]
  },
  {
   "cell_type": "code",
   "execution_count": 43,
   "metadata": {},
   "outputs": [
    {
     "name": "stdout",
     "output_type": "stream",
     "text": [
      "268/268 - 0s - loss: 0.5570 - accuracy: 0.7290 - 144ms/epoch - 536us/step\n",
      "Loss: 0.5569853186607361, Accuracy: 0.7289795875549316\n"
     ]
    }
   ],
   "source": [
    "# Evaluate the model using the test data\n",
    "model_loss, model_accuracy = nn.evaluate(X_test_scaled,y_test,verbose=2)\n",
    "print(f\"Loss: {model_loss}, Accuracy: {model_accuracy}\")"
   ]
  },
  {
   "cell_type": "code",
   "execution_count": 57,
   "metadata": {},
   "outputs": [
    {
     "name": "stderr",
     "output_type": "stream",
     "text": [
      "/opt/anaconda3/envs/yp/lib/python3.10/site-packages/keras/src/engine/training.py:3103: UserWarning: You are saving your model as an HDF5 file via `model.save()`. This file format is considered legacy. We recommend using instead the native Keras format, e.g. `model.save('my_model.keras')`.\n",
      "  saving_api.save_model(\n"
     ]
    }
   ],
   "source": [
    "# Export our model to HDF5 file\n",
    "nn.save(\"AlphabetSoupCharity.h5\")"
   ]
  },
  {
   "cell_type": "code",
   "execution_count": null,
   "metadata": {},
   "outputs": [],
   "source": []
  }
 ],
 "metadata": {
  "kernelspec": {
   "display_name": "Python 3 (ipykernel)",
   "language": "python",
   "name": "python3"
  },
  "language_info": {
   "codemirror_mode": {
    "name": "ipython",
    "version": 3
   },
   "file_extension": ".py",
   "mimetype": "text/x-python",
   "name": "python",
   "nbconvert_exporter": "python",
   "pygments_lexer": "ipython3",
   "version": "3.10.14"
  },
  "vscode": {
   "interpreter": {
    "hash": "31f2aee4e71d21fbe5cf8b01ff0e069b9275f58929596ceb00d14d90e3e16cd6"
   }
  }
 },
 "nbformat": 4,
 "nbformat_minor": 4
}
