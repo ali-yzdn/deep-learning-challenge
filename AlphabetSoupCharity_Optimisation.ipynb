{
 "cells": [
  {
   "cell_type": "markdown",
   "metadata": {},
   "source": [
    "## Preprocessing"
   ]
  },
  {
   "cell_type": "code",
   "execution_count": 81,
   "metadata": {},
   "outputs": [
    {
     "data": {
      "text/html": [
       "<div>\n",
       "<style scoped>\n",
       "    .dataframe tbody tr th:only-of-type {\n",
       "        vertical-align: middle;\n",
       "    }\n",
       "\n",
       "    .dataframe tbody tr th {\n",
       "        vertical-align: top;\n",
       "    }\n",
       "\n",
       "    .dataframe thead th {\n",
       "        text-align: right;\n",
       "    }\n",
       "</style>\n",
       "<table border=\"1\" class=\"dataframe\">\n",
       "  <thead>\n",
       "    <tr style=\"text-align: right;\">\n",
       "      <th></th>\n",
       "      <th>EIN</th>\n",
       "      <th>NAME</th>\n",
       "      <th>APPLICATION_TYPE</th>\n",
       "      <th>AFFILIATION</th>\n",
       "      <th>CLASSIFICATION</th>\n",
       "      <th>USE_CASE</th>\n",
       "      <th>ORGANIZATION</th>\n",
       "      <th>STATUS</th>\n",
       "      <th>INCOME_AMT</th>\n",
       "      <th>SPECIAL_CONSIDERATIONS</th>\n",
       "      <th>ASK_AMT</th>\n",
       "      <th>IS_SUCCESSFUL</th>\n",
       "    </tr>\n",
       "  </thead>\n",
       "  <tbody>\n",
       "    <tr>\n",
       "      <th>0</th>\n",
       "      <td>10520599</td>\n",
       "      <td>BLUE KNIGHTS MOTORCYCLE CLUB</td>\n",
       "      <td>T10</td>\n",
       "      <td>Independent</td>\n",
       "      <td>C1000</td>\n",
       "      <td>ProductDev</td>\n",
       "      <td>Association</td>\n",
       "      <td>1</td>\n",
       "      <td>0</td>\n",
       "      <td>N</td>\n",
       "      <td>5000</td>\n",
       "      <td>1</td>\n",
       "    </tr>\n",
       "    <tr>\n",
       "      <th>1</th>\n",
       "      <td>10531628</td>\n",
       "      <td>AMERICAN CHESAPEAKE CLUB CHARITABLE TR</td>\n",
       "      <td>T3</td>\n",
       "      <td>Independent</td>\n",
       "      <td>C2000</td>\n",
       "      <td>Preservation</td>\n",
       "      <td>Co-operative</td>\n",
       "      <td>1</td>\n",
       "      <td>1-9999</td>\n",
       "      <td>N</td>\n",
       "      <td>108590</td>\n",
       "      <td>1</td>\n",
       "    </tr>\n",
       "    <tr>\n",
       "      <th>2</th>\n",
       "      <td>10547893</td>\n",
       "      <td>ST CLOUD PROFESSIONAL FIREFIGHTERS</td>\n",
       "      <td>T5</td>\n",
       "      <td>CompanySponsored</td>\n",
       "      <td>C3000</td>\n",
       "      <td>ProductDev</td>\n",
       "      <td>Association</td>\n",
       "      <td>1</td>\n",
       "      <td>0</td>\n",
       "      <td>N</td>\n",
       "      <td>5000</td>\n",
       "      <td>0</td>\n",
       "    </tr>\n",
       "    <tr>\n",
       "      <th>3</th>\n",
       "      <td>10553066</td>\n",
       "      <td>SOUTHSIDE ATHLETIC ASSOCIATION</td>\n",
       "      <td>T3</td>\n",
       "      <td>CompanySponsored</td>\n",
       "      <td>C2000</td>\n",
       "      <td>Preservation</td>\n",
       "      <td>Trust</td>\n",
       "      <td>1</td>\n",
       "      <td>10000-24999</td>\n",
       "      <td>N</td>\n",
       "      <td>6692</td>\n",
       "      <td>1</td>\n",
       "    </tr>\n",
       "    <tr>\n",
       "      <th>4</th>\n",
       "      <td>10556103</td>\n",
       "      <td>GENETIC RESEARCH INSTITUTE OF THE DESERT</td>\n",
       "      <td>T3</td>\n",
       "      <td>Independent</td>\n",
       "      <td>C1000</td>\n",
       "      <td>Heathcare</td>\n",
       "      <td>Trust</td>\n",
       "      <td>1</td>\n",
       "      <td>100000-499999</td>\n",
       "      <td>N</td>\n",
       "      <td>142590</td>\n",
       "      <td>1</td>\n",
       "    </tr>\n",
       "  </tbody>\n",
       "</table>\n",
       "</div>"
      ],
      "text/plain": [
       "        EIN                                      NAME APPLICATION_TYPE  \\\n",
       "0  10520599              BLUE KNIGHTS MOTORCYCLE CLUB              T10   \n",
       "1  10531628    AMERICAN CHESAPEAKE CLUB CHARITABLE TR               T3   \n",
       "2  10547893        ST CLOUD PROFESSIONAL FIREFIGHTERS               T5   \n",
       "3  10553066            SOUTHSIDE ATHLETIC ASSOCIATION               T3   \n",
       "4  10556103  GENETIC RESEARCH INSTITUTE OF THE DESERT               T3   \n",
       "\n",
       "        AFFILIATION CLASSIFICATION      USE_CASE  ORGANIZATION  STATUS  \\\n",
       "0       Independent          C1000    ProductDev   Association       1   \n",
       "1       Independent          C2000  Preservation  Co-operative       1   \n",
       "2  CompanySponsored          C3000    ProductDev   Association       1   \n",
       "3  CompanySponsored          C2000  Preservation         Trust       1   \n",
       "4       Independent          C1000     Heathcare         Trust       1   \n",
       "\n",
       "      INCOME_AMT SPECIAL_CONSIDERATIONS  ASK_AMT  IS_SUCCESSFUL  \n",
       "0              0                      N     5000              1  \n",
       "1         1-9999                      N   108590              1  \n",
       "2              0                      N     5000              0  \n",
       "3    10000-24999                      N     6692              1  \n",
       "4  100000-499999                      N   142590              1  "
      ]
     },
     "execution_count": 81,
     "metadata": {},
     "output_type": "execute_result"
    }
   ],
   "source": [
    "# Import our dependencies\n",
    "from sklearn.model_selection import train_test_split\n",
    "from sklearn.preprocessing import StandardScaler\n",
    "import pandas as pd\n",
    "import tensorflow as tf\n",
    "from tensorflow.keras.models import Sequential\n",
    "from tensorflow.keras.layers import Dense\n",
    "from tensorflow.keras.optimizers import Adam\n",
    "\n",
    "#  Import and read the charity_data.csv.\n",
    "import pandas as pd\n",
    "charity_df = pd.read_csv(\"https://static.bc-edx.com/data/dla-1-2/m21/lms/starter/charity_data.csv\")\n",
    "charity_df.head()"
   ]
  },
  {
   "cell_type": "code",
   "execution_count": 82,
   "metadata": {},
   "outputs": [],
   "source": [
    "# Convert categorical data to numeric with `pd.get_dummies`\n",
    "charity_encoded = pd.get_dummies(charity_df)"
   ]
  },
  {
   "cell_type": "code",
   "execution_count": 83,
   "metadata": {},
   "outputs": [],
   "source": [
    "# Split our preprocessed data into our features and target arrays\n",
    "X = charity_encoded.drop(columns=[\"IS_SUCCESSFUL\"])\n",
    "y = charity_encoded[\"IS_SUCCESSFUL\"]\n",
    "\n",
    "# Split the preprocessed data into a training and testing dataset\n",
    "X_train, X_test, y_train, y_test = train_test_split(X, y, random_state=42, stratify=y)"
   ]
  },
  {
   "cell_type": "code",
   "execution_count": 84,
   "metadata": {},
   "outputs": [],
   "source": [
    "# Create a StandardScaler instances\n",
    "scaler = StandardScaler()\n",
    "\n",
    "# Fit the StandardScaler\n",
    "X_scaler = scaler.fit(X_train)\n",
    "\n",
    "# Scale the data\n",
    "X_train_scaled = X_scaler.transform(X_train)\n",
    "X_test_scaled = X_scaler.transform(X_test)"
   ]
  },
  {
   "cell_type": "markdown",
   "metadata": {},
   "source": [
    "## Compile, Train and Evaluate the Model"
   ]
  },
  {
   "cell_type": "code",
   "execution_count": 85,
   "metadata": {},
   "outputs": [],
   "source": [
    "# Create the model\n",
    "nn = tf.keras.models.Sequential()\n",
    "\n",
    "# Add the first hidden layer\n",
    "nn.add(Dense(units=64, activation='relu', input_dim=len(X_train_scaled[0])))\n",
    "\n",
    "# Add additional hidden layers\n",
    "for _ in range(3):\n",
    "    nn.add(Dense(units=64, activation='relu'))\n",
    "\n",
    "# Add the output layer\n",
    "nn.add(Dense(units=1, activation='sigmoid'))\n",
    "\n",
    "# Compile the model with a lower learning rate\n",
    "optimizer = tf.keras.optimizers.legacy.Adam(learning_rate=0.0001)\n",
    "nn.compile(optimizer=optimizer,\n",
    "              loss='binary_crossentropy',\n",
    "              metrics=['accuracy'])"
   ]
  },
  {
   "cell_type": "code",
   "execution_count": 87,
   "metadata": {},
   "outputs": [
    {
     "name": "stdout",
     "output_type": "stream",
     "text": [
      "Epoch 1/50\n",
      "804/804 - 2s - loss: 0.0757 - accuracy: 0.9698 - 2s/epoch - 3ms/step\n",
      "Epoch 2/50\n",
      "804/804 - 2s - loss: 0.0756 - accuracy: 0.9692 - 2s/epoch - 3ms/step\n",
      "Epoch 3/50\n",
      "804/804 - 3s - loss: 0.0756 - accuracy: 0.9697 - 3s/epoch - 3ms/step\n",
      "Epoch 4/50\n",
      "804/804 - 3s - loss: 0.0752 - accuracy: 0.9698 - 3s/epoch - 4ms/step\n",
      "Epoch 5/50\n",
      "804/804 - 3s - loss: 0.0748 - accuracy: 0.9703 - 3s/epoch - 4ms/step\n",
      "Epoch 6/50\n",
      "804/804 - 3s - loss: 0.0749 - accuracy: 0.9694 - 3s/epoch - 4ms/step\n",
      "Epoch 7/50\n",
      "804/804 - 3s - loss: 0.0746 - accuracy: 0.9699 - 3s/epoch - 4ms/step\n",
      "Epoch 8/50\n",
      "804/804 - 3s - loss: 0.0744 - accuracy: 0.9697 - 3s/epoch - 4ms/step\n",
      "Epoch 9/50\n",
      "804/804 - 3s - loss: 0.0739 - accuracy: 0.9701 - 3s/epoch - 4ms/step\n",
      "Epoch 10/50\n",
      "804/804 - 3s - loss: 0.0738 - accuracy: 0.9704 - 3s/epoch - 4ms/step\n",
      "Epoch 11/50\n",
      "804/804 - 3s - loss: 0.0735 - accuracy: 0.9703 - 3s/epoch - 4ms/step\n",
      "Epoch 12/50\n",
      "804/804 - 3s - loss: 0.0734 - accuracy: 0.9697 - 3s/epoch - 4ms/step\n",
      "Epoch 13/50\n",
      "804/804 - 3s - loss: 0.0729 - accuracy: 0.9700 - 3s/epoch - 4ms/step\n",
      "Epoch 14/50\n",
      "804/804 - 3s - loss: 0.0730 - accuracy: 0.9706 - 3s/epoch - 4ms/step\n",
      "Epoch 15/50\n",
      "804/804 - 3s - loss: 0.0725 - accuracy: 0.9702 - 3s/epoch - 4ms/step\n",
      "Epoch 16/50\n",
      "804/804 - 4s - loss: 0.0729 - accuracy: 0.9700 - 4s/epoch - 4ms/step\n",
      "Epoch 17/50\n",
      "804/804 - 4s - loss: 0.0725 - accuracy: 0.9706 - 4s/epoch - 5ms/step\n",
      "Epoch 18/50\n",
      "804/804 - 3s - loss: 0.0721 - accuracy: 0.9705 - 3s/epoch - 4ms/step\n",
      "Epoch 19/50\n",
      "804/804 - 3s - loss: 0.0720 - accuracy: 0.9711 - 3s/epoch - 4ms/step\n",
      "Epoch 20/50\n",
      "804/804 - 3s - loss: 0.0718 - accuracy: 0.9709 - 3s/epoch - 4ms/step\n",
      "Epoch 21/50\n",
      "804/804 - 3s - loss: 0.0716 - accuracy: 0.9710 - 3s/epoch - 4ms/step\n",
      "Epoch 22/50\n",
      "804/804 - 3s - loss: 0.0715 - accuracy: 0.9710 - 3s/epoch - 4ms/step\n",
      "Epoch 23/50\n",
      "804/804 - 3s - loss: 0.0714 - accuracy: 0.9709 - 3s/epoch - 4ms/step\n",
      "Epoch 24/50\n",
      "804/804 - 3s - loss: 0.0712 - accuracy: 0.9712 - 3s/epoch - 4ms/step\n",
      "Epoch 25/50\n",
      "804/804 - 3s - loss: 0.0706 - accuracy: 0.9707 - 3s/epoch - 4ms/step\n",
      "Epoch 26/50\n",
      "804/804 - 4s - loss: 0.0710 - accuracy: 0.9706 - 4s/epoch - 4ms/step\n",
      "Epoch 27/50\n",
      "804/804 - 3s - loss: 0.0706 - accuracy: 0.9710 - 3s/epoch - 4ms/step\n",
      "Epoch 28/50\n",
      "804/804 - 3s - loss: 0.0705 - accuracy: 0.9712 - 3s/epoch - 4ms/step\n",
      "Epoch 29/50\n",
      "804/804 - 3s - loss: 0.0706 - accuracy: 0.9710 - 3s/epoch - 4ms/step\n",
      "Epoch 30/50\n",
      "804/804 - 3s - loss: 0.0702 - accuracy: 0.9715 - 3s/epoch - 4ms/step\n",
      "Epoch 31/50\n",
      "804/804 - 3s - loss: 0.0701 - accuracy: 0.9710 - 3s/epoch - 4ms/step\n",
      "Epoch 32/50\n",
      "804/804 - 3s - loss: 0.0697 - accuracy: 0.9717 - 3s/epoch - 4ms/step\n",
      "Epoch 33/50\n",
      "804/804 - 3s - loss: 0.0698 - accuracy: 0.9715 - 3s/epoch - 4ms/step\n",
      "Epoch 34/50\n",
      "804/804 - 4s - loss: 0.0698 - accuracy: 0.9715 - 4s/epoch - 4ms/step\n",
      "Epoch 35/50\n",
      "804/804 - 4s - loss: 0.0696 - accuracy: 0.9714 - 4s/epoch - 4ms/step\n",
      "Epoch 36/50\n",
      "804/804 - 3s - loss: 0.0694 - accuracy: 0.9717 - 3s/epoch - 4ms/step\n",
      "Epoch 37/50\n",
      "804/804 - 4s - loss: 0.0695 - accuracy: 0.9717 - 4s/epoch - 5ms/step\n",
      "Epoch 38/50\n",
      "804/804 - 4s - loss: 0.0692 - accuracy: 0.9721 - 4s/epoch - 4ms/step\n",
      "Epoch 39/50\n",
      "804/804 - 4s - loss: 0.0691 - accuracy: 0.9724 - 4s/epoch - 4ms/step\n",
      "Epoch 40/50\n",
      "804/804 - 3s - loss: 0.0693 - accuracy: 0.9713 - 3s/epoch - 4ms/step\n",
      "Epoch 41/50\n",
      "804/804 - 3s - loss: 0.0687 - accuracy: 0.9722 - 3s/epoch - 4ms/step\n",
      "Epoch 42/50\n",
      "804/804 - 3s - loss: 0.0688 - accuracy: 0.9722 - 3s/epoch - 4ms/step\n",
      "Epoch 43/50\n",
      "804/804 - 3s - loss: 0.0686 - accuracy: 0.9719 - 3s/epoch - 4ms/step\n",
      "Epoch 44/50\n",
      "804/804 - 3s - loss: 0.0685 - accuracy: 0.9722 - 3s/epoch - 4ms/step\n",
      "Epoch 45/50\n",
      "804/804 - 3s - loss: 0.0685 - accuracy: 0.9721 - 3s/epoch - 4ms/step\n",
      "Epoch 46/50\n",
      "804/804 - 3s - loss: 0.0681 - accuracy: 0.9720 - 3s/epoch - 4ms/step\n",
      "Epoch 47/50\n",
      "804/804 - 3s - loss: 0.0683 - accuracy: 0.9723 - 3s/epoch - 4ms/step\n",
      "Epoch 48/50\n",
      "804/804 - 4s - loss: 0.0682 - accuracy: 0.9718 - 4s/epoch - 5ms/step\n",
      "Epoch 49/50\n",
      "804/804 - 4s - loss: 0.0682 - accuracy: 0.9726 - 4s/epoch - 5ms/step\n",
      "Epoch 50/50\n",
      "804/804 - 3s - loss: 0.0679 - accuracy: 0.9722 - 3s/epoch - 4ms/step\n"
     ]
    },
    {
     "data": {
      "text/plain": [
       "<keras.src.callbacks.History at 0x397461390>"
      ]
     },
     "execution_count": 87,
     "metadata": {},
     "output_type": "execute_result"
    }
   ],
   "source": [
    "# Train the model\n",
    "nn.fit(X_train_scaled, y_train, epochs=50,verbose=2)"
   ]
  },
  {
   "cell_type": "code",
   "execution_count": 88,
   "metadata": {},
   "outputs": [
    {
     "name": "stdout",
     "output_type": "stream",
     "text": [
      "268/268 - 0s - loss: 0.7033 - accuracy: 0.7580 - 413ms/epoch - 2ms/step\n",
      "Loss: 0.7033218741416931, Accuracy: 0.7580174803733826\n"
     ]
    }
   ],
   "source": [
    "# Evaluate the model using the test data\n",
    "model_loss, model_accuracy = nn.evaluate(X_test_scaled,y_test,verbose=2)\n",
    "print(f\"Loss: {model_loss}, Accuracy: {model_accuracy}\")"
   ]
  },
  {
   "cell_type": "code",
   "execution_count": 89,
   "metadata": {},
   "outputs": [
    {
     "name": "stderr",
     "output_type": "stream",
     "text": [
      "/opt/anaconda3/envs/yp/lib/python3.10/site-packages/keras/src/engine/training.py:3103: UserWarning: You are saving your model as an HDF5 file via `model.save()`. This file format is considered legacy. We recommend using instead the native Keras format, e.g. `model.save('my_model.keras')`.\n",
      "  saving_api.save_model(\n"
     ]
    }
   ],
   "source": [
    "# Export our model to HDF5 file\n",
    "nn.save(\"AlphabetSoupCharity_Optimisation.h5\")"
   ]
  },
  {
   "cell_type": "code",
   "execution_count": null,
   "metadata": {},
   "outputs": [],
   "source": []
  }
 ],
 "metadata": {
  "kernelspec": {
   "display_name": "Python 3 (ipykernel)",
   "language": "python",
   "name": "python3"
  },
  "language_info": {
   "codemirror_mode": {
    "name": "ipython",
    "version": 3
   },
   "file_extension": ".py",
   "mimetype": "text/x-python",
   "name": "python",
   "nbconvert_exporter": "python",
   "pygments_lexer": "ipython3",
   "version": "3.10.14"
  },
  "vscode": {
   "interpreter": {
    "hash": "31f2aee4e71d21fbe5cf8b01ff0e069b9275f58929596ceb00d14d90e3e16cd6"
   }
  }
 },
 "nbformat": 4,
 "nbformat_minor": 4
}
